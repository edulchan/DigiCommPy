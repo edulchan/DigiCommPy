{
  "nbformat": 4,
  "nbformat_minor": 0,
  "metadata": {
    "colab": {
      "provenance": [],
      "authorship_tag": "ABX9TyMjbU1oHnzG6kp9YOjcrIx5",
      "include_colab_link": true
    },
    "kernelspec": {
      "name": "python3",
      "display_name": "Python 3"
    },
    "language_info": {
      "name": "python"
    }
  },
  "cells": [
    {
      "cell_type": "markdown",
      "metadata": {
        "id": "view-in-github",
        "colab_type": "text"
      },
      "source": [
        "<a href=\"https://colab.research.google.com/github/edulchan/DigiCommPy/blob/main/Generating%20Standard%20Test%20Signals.ipynb\" target=\"_parent\"><img src=\"https://colab.research.google.com/assets/colab-badge.svg\" alt=\"Open In Colab\"/></a>"
      ]
    },
    {
      "cell_type": "code",
      "execution_count": 1,
      "metadata": {
        "id": "7eDaIGwbVwFs"
      },
      "outputs": [],
      "source": [
        "def sine_wave(f,overSampRate,phase,nCyl):\n",
        " \"\"\"\n",
        " Generate sine wave signal with the following parameters\n",
        " Parameters:\n",
        " f : frequency of sine wave in Hertz\n",
        " overSampRate : oversampling rate (integer)\n",
        " phase : desired phase shift in radians\n",
        " nCyl : number of cycles of sine wave to generate\n",
        " Returns:\n",
        " (t,g) : time base (t) and the signal g(t) as tuple\n",
        " Example:\n",
        " f=10; overSampRate=30;\n",
        " phase = 1/3*np.pi;nCyl = 5;\n",
        " (t,g) = sine_wave(f,overSampRate,phase,nCyl)\n",
        " \"\"\"\n",
        " fs = overSampRate*f # sampling frequency\n",
        " t = np.arange(0,nCyl*1/f-1/fs,1/fs) # time base\n",
        " g = np.sin(2*np.pi*f*t+phase) # replace with cos if a cosine wave is desired\n",
        " return (t,g) # return time base and signal g(t) as tuple"
      ]
    }
  ]
}